{
  "nbformat": 4,
  "nbformat_minor": 0,
  "metadata": {
    "colab": {
      "name": "homework03.ipynb",
      "version": "0.3.2",
      "provenance": [],
      "include_colab_link": true
    },
    "kernelspec": {
      "display_name": "Python 3",
      "language": "python",
      "name": "python3"
    }
  },
  "cells": [
    {
      "cell_type": "markdown",
      "metadata": {
        "id": "view-in-github",
        "colab_type": "text"
      },
      "source": [
        "[View in Colaboratory](https://colab.research.google.com/github/divchowbey/CS371/blob/master/homework03.ipynb)"
      ]
    },
    {
      "metadata": {
        "id": "2eba2LATZv0e",
        "colab_type": "text"
      },
      "cell_type": "markdown",
      "source": [
        "> **Student Names and IDs**:\n",
        ">\n",
        "> - Divya Chowbey, 0710368\n",
        "> - Feroze Mohideen, 0707410\n",
        "> - Caroline Wang, 0707659"
      ]
    },
    {
      "metadata": {
        "id": "KT-H1iDZZv0i",
        "colab_type": "text"
      },
      "cell_type": "markdown",
      "source": [
        "# Homework 3"
      ]
    },
    {
      "metadata": {
        "id": "BF_LH61iZv0l",
        "colab_type": "text"
      },
      "cell_type": "markdown",
      "source": [
        "## Part 1: Linearity"
      ]
    },
    {
      "metadata": {
        "id": "0TxQT_Z5Zv0o",
        "colab_type": "text"
      },
      "cell_type": "markdown",
      "source": [
        "### Problem 1.1"
      ]
    },
    {
      "metadata": {
        "id": "NnmIliOTZv0q",
        "colab_type": "text"
      },
      "cell_type": "markdown",
      "source": [
        "Prove that the function $\\,f\\ :\\ \\mathbb{R}\\rightarrow\\mathbb{R}$ defined by\n",
        "\n",
        "$$\n",
        "f(x) = a x + b\n",
        "$$\n",
        "\n",
        "where $a, b$ are real numbers is linear if and only if $b = 0$."
      ]
    },
    {
      "metadata": {
        "id": "srQDcWrSZv0t",
        "colab_type": "text"
      },
      "cell_type": "markdown",
      "source": [
        "### Answer"
      ]
    },
    {
      "metadata": {
        "id": "7SadRdusZv0v",
        "colab_type": "text"
      },
      "cell_type": "markdown",
      "source": [
        "## Part 2: Counting Polynomial Coefficients"
      ]
    },
    {
      "metadata": {
        "id": "hlN4wdWhZv0y",
        "colab_type": "text"
      },
      "cell_type": "markdown",
      "source": [
        "### Problem 2.1\n",
        "\n",
        "Write an expression for the general polynomial of degree up to $k=2$ in $d=3$ variables."
      ]
    },
    {
      "metadata": {
        "id": "MI0_M4RYZv01",
        "colab_type": "text"
      },
      "cell_type": "markdown",
      "source": [
        "### Answer"
      ]
    },
    {
      "metadata": {
        "id": "qdhGUM3_Zv04",
        "colab_type": "text"
      },
      "cell_type": "markdown",
      "source": [
        "### Problem 2.2\n",
        "\n",
        "How many coefficients does $P_{3,4}(\\mathbf{x})$ have?"
      ]
    },
    {
      "metadata": {
        "id": "dA-WTFltZv05",
        "colab_type": "text"
      },
      "cell_type": "markdown",
      "source": [
        "### Answer"
      ]
    },
    {
      "metadata": {
        "id": "-lI3MaOXZv07",
        "colab_type": "text"
      },
      "cell_type": "markdown",
      "source": [
        "### Problem 2.3"
      ]
    },
    {
      "metadata": {
        "id": "Ox-oj_w1Zv09",
        "colab_type": "text"
      },
      "cell_type": "markdown",
      "source": [
        "Make a table with the monomial $\\mu'$ (not $\\mu$), string $s$, and vector $\\mathbf{p}$ for each of the monomials in $P_{3, 2}$. Use one table row for each monomial, and list the monomials in the order in which they appear in your expression for $P_{3, 2}$.\n",
        "\n",
        "As an exception to the rules above, write every power of $1$ in $\\mu'$ explicitly, even when it is $0$ or $1$."
      ]
    },
    {
      "metadata": {
        "id": "8Wka8vxtZv0-",
        "colab_type": "text"
      },
      "cell_type": "markdown",
      "source": [
        "### Answer"
      ]
    },
    {
      "metadata": {
        "id": "zYsC4piEZv1A",
        "colab_type": "text"
      },
      "cell_type": "markdown",
      "source": [
        "### Problem 2.4"
      ]
    },
    {
      "metadata": {
        "id": "qSO2721QZv1B",
        "colab_type": "text"
      },
      "cell_type": "markdown",
      "source": [
        "Write two Python 3 functions with headers\n",
        "`def p2s(p):` and `def s2p(s):`\n",
        "that convert between $\\mathbf{p}$ and $s$. Show your function definitions and the outputs produced by the code below."
      ]
    },
    {
      "metadata": {
        "id": "06Qm5AwfZv1D",
        "colab_type": "text"
      },
      "cell_type": "markdown",
      "source": [
        "### Answer"
      ]
    },
    {
      "metadata": {
        "id": "b_cTsDOWZv1F",
        "colab_type": "code",
        "colab": {}
      },
      "cell_type": "code",
      "source": [
        "try:\n",
        "    print(p2s([1]))\n",
        "    print(p2s([0]))\n",
        "    print(p2s([0, 0]))\n",
        "    print(p2s([2]))\n",
        "    print(p2s([0, 0, 0]))\n",
        "    print(p2s([4, 2, 1, 0, 3, 0]))\n",
        "    \n",
        "    print(s2p('0'))\n",
        "    print(s2p(''))\n",
        "    print(s2p('1'))\n",
        "    print(s2p('00'))\n",
        "    print(s2p('11'))\n",
        "    print(s2p('000010010110001'))\n",
        "    \n",
        "except NameError:\n",
        "    pass"
      ],
      "execution_count": 0,
      "outputs": []
    },
    {
      "metadata": {
        "id": "aTxZYYFiZv1L",
        "colab_type": "text"
      },
      "cell_type": "markdown",
      "source": [
        "## Part 3: Nearest-Neighbor Prediction"
      ]
    },
    {
      "metadata": {
        "id": "AWf3IVvGZv1M",
        "colab_type": "text"
      },
      "cell_type": "markdown",
      "source": [
        "### Problem 3.1"
      ]
    },
    {
      "metadata": {
        "id": "7va1SdTYZv1P",
        "colab_type": "text"
      },
      "cell_type": "markdown",
      "source": [
        "Write a Python 3 function with header\n",
        "\n",
        "`def knn(x, k, T, distance, summary):`\n",
        "\n",
        "that takes a `numpy` array `x` of data points, a positive integer `k`, a training set `T`, a distance function, and a summary function. The function `knn` returns the value $y = h(\\mathbf{x})$ of the $k$-NN prediction for data point $\\mathbf{x}$ using `distance` to determine the nearest neighbors of $\\mathbf{x}$ and `summary` to summarize the corresponding $k$ values.\n",
        "\n",
        "Show your code."
      ]
    },
    {
      "metadata": {
        "id": "sHd85Ar3Zv1P",
        "colab_type": "text"
      },
      "cell_type": "markdown",
      "source": [
        "### Answer"
      ]
    },
    {
      "metadata": {
        "id": "zMprSSt8Zv1R",
        "colab_type": "text"
      },
      "cell_type": "markdown",
      "source": [
        "### Problem 3.2"
      ]
    },
    {
      "metadata": {
        "id": "KdCdwnRmZv1T",
        "colab_type": "text"
      },
      "cell_type": "markdown",
      "source": [
        "Write functions `Euclidean`, `mean`, `median`, and `majority`. The first is a distance function, the other three are summary functions. They implement Euclidean distance in data space and mean, median, and majority in value space. To write `majority` you may assume that all the values in the input vector are nonnegative integers. Break ties any way you like.\n",
        "\n",
        "Show your code."
      ]
    },
    {
      "metadata": {
        "id": "bgzvLQ2QZv1V",
        "colab_type": "text"
      },
      "cell_type": "markdown",
      "source": [
        "### Answer"
      ]
    },
    {
      "metadata": {
        "id": "x2vV0C4QZv1W",
        "colab_type": "text"
      },
      "cell_type": "markdown",
      "source": [
        "### Problem 3.3"
      ]
    },
    {
      "metadata": {
        "id": "bxTrtCazZv1Y",
        "colab_type": "code",
        "colab": {}
      },
      "cell_type": "code",
      "source": [
        "import pickle\n",
        "with open('data.pickle', 'rb') as f:\n",
        "    T = pickle.load(f)"
      ],
      "execution_count": 0,
      "outputs": []
    },
    {
      "metadata": {
        "id": "sei9rnURZv1b",
        "colab_type": "text"
      },
      "cell_type": "markdown",
      "source": [
        "Write code to reproduce Figure 4(b) in the [notes](https://www2.cs.duke.edu/courses/fall18/compsci371d/notes/03_NearestNeighbors.pdf).\n",
        "\n",
        "Show your code and the figure it produces."
      ]
    },
    {
      "metadata": {
        "id": "qvRdE-AcZv1c",
        "colab_type": "text"
      },
      "cell_type": "markdown",
      "source": [
        "### Answer"
      ]
    },
    {
      "metadata": {
        "id": "0Ys-9LtlZv1d",
        "colab_type": "text"
      },
      "cell_type": "markdown",
      "source": [
        "### Problem 3.4\n",
        "\n",
        "Redraw the plot you obtained in the previous question for $k=10$, and superimpose on it the plot obtained with the same value of $k$ but using `median` as the summary function. Add a legend that says `mean` or `median` for the corresponding plot.\n",
        "\n",
        "Show code and output figure."
      ]
    },
    {
      "metadata": {
        "id": "sr6GTAE0Zv1e",
        "colab_type": "text"
      },
      "cell_type": "markdown",
      "source": [
        "### Answer"
      ]
    },
    {
      "metadata": {
        "id": "-qaUxF2OZv1f",
        "colab_type": "text"
      },
      "cell_type": "markdown",
      "source": [
        "### Problem 3.5"
      ]
    },
    {
      "metadata": {
        "id": "NIHPJeuzZv1g",
        "colab_type": "text"
      },
      "cell_type": "markdown",
      "source": [
        "You will notice that the plots computed with mean and median differ for some values of $x$, but not much for other values of $x$. What would very different values of mean and median tell you about the values $y_1,\\ldots, y_k$ in a neighborhood of some data point $x$? Explain, and provide an example from your plots."
      ]
    },
    {
      "metadata": {
        "id": "cgVh5L1GZv1i",
        "colab_type": "text"
      },
      "cell_type": "markdown",
      "source": [
        "### Answer"
      ]
    },
    {
      "metadata": {
        "id": "ilf-ClCMZv1i",
        "colab_type": "text"
      },
      "cell_type": "markdown",
      "source": [
        "### Problem 3.6\n",
        "\n",
        "As you learned the hard way, it takes quite a bit of time to run a $k$-NN classifier when the training set is large (and when you run it on many data points $x$, of course). Explain very briefly why this does not necessarily doom $k$-NN prediction to practical irrelevance."
      ]
    },
    {
      "metadata": {
        "id": "s3wU4qE8Zv1j",
        "colab_type": "text"
      },
      "cell_type": "markdown",
      "source": [
        "### Answer"
      ]
    }
  ]
}