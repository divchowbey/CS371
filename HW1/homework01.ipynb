{
 "cells": [
  {
   "cell_type": "markdown",
   "metadata": {
    "tags": [
     "names"
    ]
   },
   "source": [
    "> **Student Names and IDs**:\n",
    ">\n",
    "> - Divya Chowbey, 0710368\n",
    "> - Feroze Mohideen, 0707410\n",
    "> - Caroline Wang, 0707659"
   ]
  },
  {
   "cell_type": "markdown",
   "metadata": {
    "tags": [
     "question"
    ]
   },
   "source": [
    "---\n",
    "#### Problem 1.1\n",
    "\n",
    "> Spell out the system $$A \\mathbf{c} = \\mathbf{a}$$ for this special case.\n",
    "\n",
    "> Consider: $$ A = \\left[\\begin{array}{cc} 1 & x_{0} \\end{array}\\right] \\;\\text{,}\\;\\;\\; \\mathbf{c} = \\left[\\begin{array}{c} c_{0}\\\\ c_{1} \\end{array}\\right] \\text{, and}\\;\\;\\; \\mathbf{a} = \\left[\\begin{array}{c} y_{0} \\end{array}\\right] $$\n",
    ">\n",
    "> Rearranging: \n",
    "> $$ c_0 +c_1 x_0 = y_0$$"
   ]
  },
  {
   "cell_type": "markdown",
   "metadata": {
    "tags": [
     "question"
    ]
   },
   "source": [
    "---\n",
    "#### Problem 1.2\n",
    "\n",
    "> Give expressions for two different possible solutions $\\mathbf{c}$ to this equation in terms of $x_0$ and $y_0$.\n",
    ">\n",
    "> Possible solutions include: $$ \\mathbf{c} = \\left[\\begin{array}{c} y_0\\\\ 0 \\end{array}\\right]  \\;\\;\\;\\text{and}\\;\\;\\; \\mathbf{c} = \\left[\\begin{array}{c} y_0-x_0\\\\ 1 \\end{array}\\right]$$"
   ]
  },
  {
   "cell_type": "markdown",
   "metadata": {
    "tags": [
     "question"
    ]
   },
   "source": [
    "---\n",
    "#### Problem 1.3\n",
    "\n",
    "> Write and run Python code to draw, in a single plot, the two lines corresponding to the two solutions you gave when $$(x_0, y_0) = (2, 1).$$"
   ]
  },
  {
   "cell_type": "code",
   "execution_count": 1,
   "metadata": {
    "scrolled": true,
    "tags": [
     "question"
    ]
   },
   "outputs": [
    {
     "data": {
      "text/plain": [
       "<Figure size 640x480 with 1 Axes>"
      ]
     },
     "metadata": {},
     "output_type": "display_data"
    }
   ],
   "source": [
    "import numpy as np\n",
    "import matplotlib.pyplot as plt\n",
    "\n",
    "def show(x, y, cList = []):\n",
    "    plt.ion()\n",
    "    plt.plot(x, y, marker='.', markersize=12, ls='')\n",
    "    npt = 100\n",
    "    xrange = [x - 1, x + 1] if x.size == 1 else [np.amin(x), np.amax(x)]\n",
    "    xFine = np.linspace(xrange[0], xrange[1], npt)\n",
    "    for c in cList:\n",
    "        nc = c.size\n",
    "        ycFine = np.zeros(xFine.shape)\n",
    "        xPow = np.ones(xFine.shape)\n",
    "        for i in range(nc):\n",
    "            ycFine += c.item(i) * xPow\n",
    "            xPow *= xFine\n",
    "        plt.plot(xFine, ycFine, label = 'degree ' + str(nc-1))\n",
    "    plt.xlabel('x')\n",
    "    plt.ylabel('y')\n",
    "    plt.legend()\n",
    "    plt.show()\n",
    "    \n",
    "# Usage example\n",
    "p = [2, 1]\n",
    "show(np.array(p[0]), np.array(p[1]), [np.array([1, 0]), np.array([-1, 1])])"
   ]
  },
  {
   "cell_type": "markdown",
   "metadata": {
    "tags": [
     "question"
    ]
   },
   "source": [
    "---\n",
    "#### Problem 2.1\n",
    "\n",
    "> Derive this last equation from the system\n",
    "> $$A\\mathbf{c} = \\mathbf{a}$$\n",
    "> spelled out for this special case.\n",
    ">\n",
    "> Consider: $ A = \\left[\\begin{array}{cc} 1 & x_0\\\\ 1 & x_{1} \\end{array}\\right] \\text{,}\\;\\;\\; \\mathbf{c} = \\left[\\begin{array}{c} c_{0}\\\\ c_{1} \\end{array}\\right] \\; \\text{, and}\\;\\;\\; \\mathbf{a} = \\left[\\begin{array}{c} y_{0} \\\\ y_{1}\\end{array}\\right] $\n",
    "\n",
    "> Substituting: $$\\left[\\begin{array}{cc} 1 & x_0\\\\ 1 & x_{1} \\end{array}\\right] \\left[\\begin{array}{c} c_{0}\\\\ c_{1} \\end{array}\\right] =  \\left[\\begin{array}{c} y_{0} \\\\ y_{1}\\end{array}\\right]$$\n",
    "\n",
    "> Applying Gaussian Elimination: $$ \\left[\\begin{array}{cc|c}  1 & x_0 & y_{0}\\\\ 1 & x_{1} & y_{1}\\end{array}\\right]$$\n",
    "\n",
    "> $$ \\left[\\begin{array}{cc|c}  1 & x_0 & y_{0}\\\\ 0 & x_{1}-x_{0} & y_{1}-y_{0} \\end{array}\\right]$$\n",
    "\n",
    "> $$ \\left[\\begin{array}{cc|c}  1 & 0 & y_{0} - \\frac{x_{0}}{x_{1}-x_{0}} (y_{1}-y_{0}) \\\\ 0 & x_{1}-x_{0} & y_{1}-y_{0} \\end{array}\\right]$$\n",
    "\n",
    "> $$ \\left[\\begin{array}{cc|c}  1 & 0 & y_{0} - \\frac{x_{0}}{x_{1}-x_{0}} (y_{1}-y_{0}) \\\\ 0 & 1  & \\frac{y_{1}-y_{0}}{x_{1}-x_{0}} \\end{array}\\right]$$\n",
    "\n",
    "> Therefore, $$ c_0 = y_{0} - \\frac{x_{0}}{x_{1}-x_{0}} (y_{1}-y_{0}) \\;\\;\\; \\text{and}\\;\\;\\;  c_1= \\frac{y_{1}-y_{0}}{x_{1}-x_{0}} $$\n",
    "\n",
    "> Substituting $c_0 \\;\\text{and}\\; c_1 \\;:$\n",
    "> $$ c_0 + c_1 x = y $$\n",
    "\n",
    "> $$ y_{0} - \\left( \\frac{x_{0}}{x_{1}-x_{0}}\\right) \\left(y_{1}-y_{0}\\right) + \\left( \\frac{y_{1}-y_{0}}{x_{1}-x_{0}} \\right) x = y $$\n",
    "\n",
    "> $$ (x- x_0)\\left( \\frac{y_{1}-y_{0}}{x_{1}-x_{0}} \\right) = y - y_0 $$"
   ]
  },
  {
   "cell_type": "markdown",
   "metadata": {
    "tags": [
     "question"
    ]
   },
   "source": [
    "---\n",
    "#### Problem 3.1\n",
    "\n",
    "> Write the matrix $A^T A$ and vector $A^T \\mathbf{a}$ in terms of $N, X, Y, S, P$ for the special case $k=1$.\n",
    "\n",
    "> Consider: $A =  \\left[\\begin{array}{cc} 1 & x_0\\\\ 1 & x_{1} \\\\ 1 & x_{2} \\end{array}\\right] $ and $\\mathbf{a} = \\left[\\begin{array}{c} y_{0} \\\\ y_{1} \\\\ y_{2} \\end{array}\\right] $, where $A^T = \\left[\\begin{array}{ccc} 1 & 1 & 1 \\\\ x_0 & x_{1} & x_{2} \\end{array}\\right] $\n",
    "\n",
    "> (i) $$ A^T A = \\left[\\begin{array}{cc} 1 & x_0\\\\ 1 & x_{1} \\\\ 1 & x_{2} \\end{array}\\right]\\left[\\begin{array}{ccc} 1 & 1 & 1 \\\\ x_0 & x_{1} & x_{2} \\end{array}\\right]$$\n",
    "\n",
    "$$ = \\left[\\begin{array}{cc} 3 & x_0 + x_1+x_2 \\\\x_0 + x_1+x_2 & x_0^2 + x_1^2+x_2^2  \\end{array}\\right]$$\n",
    "\n",
    "$$ = \\left[\\begin{array}{cc} N & X \\\\X & S \\end{array}\\right]$$\n",
    "\n",
    "> (ii) $$ A^T\\mathbf{a} = \\left[\\begin{array}{ccc} 1 & 1 & 1 \\\\ x_0 & x_{1} & x_{2} \\end{array}\\right] \\left[\\begin{array}{c} y_{0} \\\\ y_{1} \\\\ y_{2} \\end{array}\\right]$$\n",
    "\n",
    "$$ = \\left[\\begin{array}{ccc}y_{0} +y_{1}+ y_{2} \\\\ x_0y_{0} +x_1y_{1}+ x_2y_{2}\\end{array}\\right]$$\n",
    "\n",
    "$$ = \\left[\\begin{array}{c} Y\\\\ P \\end{array}\\right] $$"
   ]
  },
  {
   "cell_type": "markdown",
   "metadata": {
    "tags": [
     "question"
    ]
   },
   "source": [
    "---\n",
    "#### Problem 3.2\n",
    "\n",
    "> Find expressions for $c_0$ and $c_1$ in terms of $N, X, Y, S, P$ by solving the normal equations. Recall that\n",
    "> $$\\left[\\begin{array}{cc}a & b\\\\c & d \\end{array}\\right]^{-1} \\;=\\; \n",
    "\\frac{1}{ad-bc}\\ \\left[\\begin{array}{rr}d & -b\\\\-c & a \\end{array}\\right]$$\n",
    "\n",
    "> $$ A^T A \\mathbf{c} = A^T \\mathbf{a} $$\n",
    "> $$  \\left[\\begin{array}{cc} N & X \\\\X & S \\end{array}\\right]  \\left[\\begin{array}{c} c_0\\\\ c_1 \\end{array}\\right] = \\left[\\begin{array}{c} Y\\\\ P \\end{array}\\right]$$\n",
    ">$$ \\left[\\begin{array}{cc} N & X \\\\X & S \\end{array}\\right]^{-1} \\left[\\begin{array}{cc} N & X \\\\X & S \\end{array}\\right]  \\left[\\begin{array}{c} c_0\\\\ c_1 \\end{array}\\right] = \\left[\\begin{array}{cc} N & X \\\\X & S \\end{array}\\right]^{-1}\\left[\\begin{array}{c} Y\\\\ P \\end{array}\\right]$$ \n",
    "\n",
    "> Where: $$ \\left[\\begin{array}{cc} N & X \\\\X & S \\end{array}\\right]^{-1} = \\frac{1}{NS-X^2}\\ \\left[\\begin{array}{rr}S & -X\\\\-X & N \\end{array}\\right]$$\n",
    "\n",
    "> Therefore: $$ \\left[\\begin{array}{c} c_0\\\\ c_1 \\end{array}\\right] =  \\frac{1}{NS-X^2}\\ \\left[\\begin{array}{rr}S & -X\\\\-X & N \\end{array}\\right]\\left[\\begin{array}{c} Y\\\\ P \\end{array}\\right]$$\n",
    "\n",
    ">  $$ \\left[\\begin{array}{c} c_0\\\\ c_1 \\end{array}\\right] =  \\frac{1}{NS-X^2}\\ \\left[\\begin{array}{r}SY-PX\\\\-XY +NP \\end{array}\\right]$$"
   ]
  },
  {
   "cell_type": "markdown",
   "metadata": {
    "tags": [
     "question"
    ]
   },
   "source": [
    "---\n",
    "#### Problem 3.3\n",
    "\n",
    "> Use the function `show` given earlier to display the three points $(0, -1), (1, 1), (3, 0)$ and the line fit to them with the formulas you just found for $c_0$ and $c_1$."
   ]
  },
  {
   "cell_type": "code",
   "execution_count": 2,
   "metadata": {},
   "outputs": [
    {
     "name": "stdout",
     "output_type": "stream",
     "text": [
      "c0:  -0.286\n",
      "c1:  0.214\n"
     ]
    },
    {
     "data": {
      "image/png": "[encoded data removed]",
      "text/plain": [
       "<Figure size 432x288 with 1 Axes>"
      ]
     },
     "metadata": {},
     "output_type": "display_data"
    }
   ],
   "source": [
    "x = [0, 1, 3]\n",
    "y = [-1, 1, 0]\n",
    "\n",
    "N = len(y)\n",
    "S = sum([x[i]**2 for i in range(len(x))])\n",
    "X = sum(x)\n",
    "Y = sum(y)\n",
    "P = sum([x[i]*y[i] for i in range(len(x))])\n",
    "\n",
    "c_0 = (1/(N*S - X**2))*(S*Y- P*X)\n",
    "c_1 = (1/(N*S - X**2))*(-X*Y+N*P)\n",
    "\n",
    "print(\"c0: \", \"{0:.3f}\".format(c_0))\n",
    "print(\"c1: \", \"{0:.3f}\".format(c_1))\n",
    "\n",
    "\n",
    "\n",
    "show(np.array(x), np.array(y), [np.array([c_0, c_1])])"
   ]
  },
  {
   "cell_type": "markdown",
   "metadata": {
    "tags": [
     "question"
    ]
   },
   "source": [
    "---\n",
    "#### Problem 4.1\n",
    "\n",
    "> In problem 1.3 you found two different solutions to a data fitting problem. Let us call the corresponding coefficient vectors $\\mathbf{c}$ and $\\mathbf{d}$. Write the values of $\\mathbf{c}$ and $\\mathbf{d}$, and report their norms. Which is smaller?\n",
    "\n",
    "> Recall: $$\\mathbf{c} =\\left[\\begin{array}{c} y_0\\\\ 0 \\end{array}\\right]  = \\left[\\begin{array}{c} 2\\\\ 0 \\end{array}\\right]\\;\\;\\; \\text{and} \\;\\;\\;\n",
    "\\mathbf{d} = \\left[\\begin{array}{c} y_0-x_0\\\\ 1 \\end{array}\\right] = \\left[\\begin{array}{c}-1\\\\ 1 \\end{array}\\right]$$\n",
    "\n",
    "> From code included below, the euclidean norm of $ \\mathbf{d}$ (1.414) was found to be smaller than that of $\\mathbf{c}$ (2)."
   ]
  },
  {
   "cell_type": "code",
   "execution_count": 3,
   "metadata": {},
   "outputs": [],
   "source": [
    "from numpy import linalg\n",
    "c = [2, 0]\n",
    "d = [-1, 1]\n",
    "\n",
    "norm_c = linalg.norm(np.array(c))\n",
    "norm_d = linalg.norm(np.array(d))"
   ]
  },
  {
   "cell_type": "markdown",
   "metadata": {
    "tags": [
     "question"
    ]
   },
   "source": [
    "---\n",
    "#### Problem 4.2\n",
    "\n",
    "> Write a function with header\n",
    ">\n",
    ">    `def fit(x, y, k):`\n",
    ">\n",
    "> that fits a polynomial of degree `k` to the data in `x` and `y`."
   ]
  },
  {
   "cell_type": "code",
   "execution_count": 4,
   "metadata": {},
   "outputs": [],
   "source": [
    "import numpy as np\n",
    "from numpy import linalg\n",
    "\n",
    "def fit(x, y, k):\n",
    "    N = y.size\n",
    "    A = np.zeros((N,k+1))\n",
    "    for i in range(N): \n",
    "        for j in range(k+1): \n",
    "            A[i,j]= x.item(i)**j\n",
    "    y = np.reshape(np.matrix(y),[y.size,1])\n",
    "    matA = np.matrix(A)\n",
    "    c = linalg.lstsq(matA, y, rcond=None)[0] \n",
    "    return c\n",
    "\n"
   ]
  },
  {
   "cell_type": "markdown",
   "metadata": {
    "tags": [
     "question"
    ]
   },
   "source": [
    "---\n",
    "#### Problem 4.3\n",
    "\n",
    "> Show the plot and output obtained with the following code, where `fit` is your function. The file `T.txt` should be in the same directory as your notebook."
   ]
  },
  {
   "cell_type": "code",
   "execution_count": 5,
   "metadata": {
    "scrolled": true,
    "tags": [
     "question"
    ]
   },
   "outputs": [
    {
     "data": {
      "image/png": "[encoded data removed]",
      "text/plain": [
       "<Figure size 432x288 with 1 Axes>"
      ]
     },
     "metadata": {},
     "output_type": "display_data"
    },
    {
     "name": "stdout",
     "output_type": "stream",
     "text": [
      "[[ 0.200  0.400]]\n"
     ]
    }
   ],
   "source": [
    "try:\n",
    "    p13 = {'x' : np.array(2), 'y' : np.array(1), 'k' : [1]}\n",
    "\n",
    "    np.set_printoptions(formatter={'float': '{: .3f}'.format})\n",
    "\n",
    "    def run(p):\n",
    "        x, y = p['x'], p['y']\n",
    "        cList = [fit(x, y, k) for k in p['k']]\n",
    "        show(x, y, cList)\n",
    "        for c in cList:\n",
    "            print(c.T)\n",
    "            \n",
    "    run(p13)\n",
    "except NameError:\n",
    "    pass\n"
   ]
  },
  {
   "cell_type": "markdown",
   "metadata": {
    "tags": [
     "question"
    ]
   },
   "source": [
    "---\n",
    "#### Problem 4.4\n",
    "\n",
    "> What is the approximate norm of the solution (to three decimal digits), and is this result consistent with your results in problem 1.3? Why or why not?\n",
    "\n",
    "> The norm of the found c value is is 0.447 (see code below). The norm of this vector is less than the norms of the vectors found earlier. This is expected because for an undetermined system, the `numpy.linalg.lstsq` function finds the coefficient vector with the lowest norm which still satisfies the solution found by the quadratic loss function. "
   ]
  },
  {
   "cell_type": "code",
   "execution_count": 6,
   "metadata": {},
   "outputs": [
    {
     "name": "stdout",
     "output_type": "stream",
     "text": [
      "0.447\n"
     ]
    }
   ],
   "source": [
    "c_fit= [0.200, 0.400]\n",
    "\n",
    "norm_c = linalg.norm(np.array(c_fit))\n",
    "print(\"{0:.3f}\".format(norm_c))"
   ]
  },
  {
   "cell_type": "markdown",
   "metadata": {
    "tags": [
     "question"
    ]
   },
   "source": [
    "---\n",
    "#### Problem 4.5\n",
    "\n",
    "> a. Show the plots and outputs obtained with the code below, and answer the following questions:\n",
    ">\n",
    "> b. Are the plot and value of $\\mathbf{c}$  from the data in `p33` consistent with your answer to problem 3.3?\n",
    "\n",
    "In problem 3.3, we computed $c_0= -0.286$, $c_1=0.214$. From the data in `p33`, we got $[[-0.286,  0.214]]$. These two values for $c$ are the same for two reasons: (1) Problem 3.3 and `p33` are both fitting a degree 1 polynomial to the dataset (0,-1),(1,1),(3,0). (2) The least-squares solution to the normal equations is equivalent to minimizing the quadratic loss function (what the `numpy.linalg.lstsq` function is doing). \n",
    "\n",
    ">\n",
    "> c. Give a brief qualitative description of the way(s) in which the curves in the plot from the data in `notes` differ from the curves in Figure 1 of the [class notes on data fitting](https://www2.cs.duke.edu/courses/fall18/compsci371d/notes/01_DataFitting.pdf). The plots in that Figure were computed from the same ten points as in `T.txt` but with a different numerical package.\n",
    "\n",
    "Using the human eye, our curves are qualitatively indistinguishable from the curves in the notes. "
   ]
  },
  {
   "cell_type": "code",
   "execution_count": 7,
   "metadata": {
    "tags": [
     "question"
    ]
   },
   "outputs": [
    {
     "data": {
      "image/png": "[encoded data removed]",
      "text/plain": [
       "<Figure size 432x288 with 1 Axes>"
      ]
     },
     "metadata": {},
     "output_type": "display_data"
    },
    {
     "name": "stdout",
     "output_type": "stream",
     "text": [
      "[[-0.286  0.214]]\n"
     ]
    },
    {
     "data": {
      "image/png": "[encoded data removed]",
      "text/plain": [
       "<Figure size 432x288 with 1 Axes>"
      ]
     },
     "metadata": {},
     "output_type": "display_data"
    },
    {
     "name": "stdout",
     "output_type": "stream",
     "text": [
      "[[ 3.394 -1.655]]\n",
      "[[ 2.089  18.049 -49.900  32.440]]\n",
      "[[ 2.030 -292.804  7046.148 -62434.420  285853.947 -759114.988\n",
      "   1214741.224 -1155128.463  601089.629 -131759.602]]\n"
     ]
    }
   ],
   "source": [
    "try:\n",
    "    p33 = {'x' : np.array([0, 1, 3]), 'y' : np.array([-1, 1, 0]), 'k' : [1]}\n",
    "\n",
    "    x, y = np.loadtxt('T.txt', unpack=True)\n",
    "    notes = {'x' :x, 'y' : y, 'k' : [1, 3, 9]}\n",
    "\n",
    "    run(p33)\n",
    "    run(notes)\n",
    "except NameError:\n",
    "    pass"
   ]
  },
  {
   "cell_type": "markdown",
   "metadata": {
    "tags": [
     "question"
    ]
   },
   "source": [
    "---\n",
    "#### Problem 4.6 (Extra Credit, 5 Points)\n",
    "\n",
    ">If you noticed any discrepancies between your plot and the Figure in the class notes, first state why the discrepancies should not occur under ideal circumstances. Then suggest some reasons for them. For your information, the coefficients found for $k=9$ for the Figure in the class notes are as follows:\n",
    ">\n",
    ">$2.030, -295.642, 7107.144, -62956.114, 288218.499, -765400.622, 1224862.633, -1164835.634, 606187.939, -132887.534$\n",
    "\n",
    "Under ideal circumstances, discrepancies shouldn't occur because solutions ($\\mathbf{c}$) to $A\\mathbf{c} = \\mathbf{a}$ should be unique. Discrepancies can be accounted for by a couple of reasons. First, the `numpy.linalg.lstsq` used in this homework assignment may implemented differently compared to the function used in the class notes. Specifically, the implementation differences may lie in the optimization technique used to minimize the quadratic loss function, or any other functions may need to be minimized. Discrepancies may also arise from the the matrix $A$ being poorly conditioned, with the ratio between the smallest and largest value in the matrix being very small. In practice, this leads to the computation of $\\mathbf{c}$ being very sensitive and involving very large coefficients that alternate in sign (ex. last two coefficients are 601089.629 and -131759.602) to account for small differences (domain and codomain of inputs are much smaller than higher order coefficients).\n"
   ]
  },
  {
   "cell_type": "code",
   "execution_count": null,
   "metadata": {},
   "outputs": [],
   "source": []
  }
 ],
 "metadata": {
  "kernelspec": {
   "display_name": "Python 3",
   "language": "python",
   "name": "python3"
  },
  "language_info": {
   "codemirror_mode": {
    "name": "ipython",
    "version": 3
   },
   "file_extension": ".py",
   "mimetype": "text/x-python",
   "name": "python",
   "nbconvert_exporter": "python",
   "pygments_lexer": "ipython3",
   "version": "3.6.5"
  }
 },
 "nbformat": 4,
 "nbformat_minor": 2
}
