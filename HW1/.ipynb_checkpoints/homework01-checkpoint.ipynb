{
 "cells": [
  {
   "cell_type": "markdown",
   "metadata": {
    "tags": [
     "names"
    ]
   },
   "source": [
    "> **Student Names and IDs**:\n",
    ">\n",
    "> - Divya Chowbey, 0710368\n",
    "> - Feroze Mohideen\n",
    "> - Caroline Wang"
   ]
  },
  {
   "cell_type": "markdown",
   "metadata": {
    "tags": [
     "question"
    ]
   },
   "source": [
    "---\n",
    "#### Problem 1.1\n",
    "\n",
    "> Spell out the system $$A \\mathbf{c} = \\mathbf{a}$$ for this special case.\n",
    "\n",
    "> Given: $$ A = \\left[\\begin{array}{c} 1\\\\ x_{0} \\end{array}\\right]^T \\;\\text{,}\\;\\;\\; \\mathbf{c} = \\left[\\begin{array}{c} c_{0}\\\\ c_{1} \\end{array}\\right] \\text{, and}\\;\\;\\; \\mathbf{a} = \\left[\\begin{array}{c} y_{0} \\end{array}\\right] $$\n",
    ">\n",
    "> Rearranging: \n",
    "> $$ c_0 +x_0 c_1 = y_0$$"
   ]
  },
  {
   "cell_type": "markdown",
   "metadata": {
    "tags": [
     "question"
    ]
   },
   "source": [
    "---\n",
    "#### Problem 1.2\n",
    "\n",
    "> Give expressions for two different possible solutions $\\mathbf{c}$ to this equation in terms of $x_0$ and $y_0$.\n",
    ">\n",
    "> $$ \\mathbf{c} = \\left[\\begin{array}{c} y_0\\\\ 0 \\end{array}\\right]  \\;\\;\\;\\text{and}\\;\\;\\; \\mathbf{c} = \\left[\\begin{array}{c} y_0-x_0\\\\ 1 \\end{array}\\right]$$"
   ]
  },
  {
   "cell_type": "markdown",
   "metadata": {
    "tags": [
     "question"
    ]
   },
   "source": [
    "---\n",
    "#### Problem 1.3\n",
    "\n",
    "> Write and run Python code to draw, in a single plot, the two lines corresponding to the two solutions you gave when $$(x_0, y_0) = (2, 1).$$"
   ]
  },
  {
   "cell_type": "code",
   "execution_count": 3,
   "metadata": {
    "scrolled": true,
    "tags": [
     "question"
    ]
   },
   "outputs": [
    {
     "data": {
      "image/png": "[encoded data removed]",
      "text/plain": [
       "<Figure size 432x288 with 1 Axes>"
      ]
     },
     "metadata": {},
     "output_type": "display_data"
    }
   ],
   "source": [
    "import numpy as np\n",
    "import matplotlib.pyplot as plt\n",
    "\n",
    "def show(x, y, cList = []):\n",
    "    plt.ion()\n",
    "    plt.plot(x, y, marker='.', markersize=12, ls='')\n",
    "    npt = 100\n",
    "    xrange = [x - 1, x + 1] if x.size == 1 else [np.amin(x), np.amax(x)]\n",
    "    xFine = np.linspace(xrange[0], xrange[1], npt)\n",
    "    for c in cList:\n",
    "        nc = c.size\n",
    "        ycFine = np.zeros(xFine.shape)\n",
    "        xPow = np.ones(xFine.shape)\n",
    "        for i in range(nc):\n",
    "            ycFine += c.item(i) * xPow\n",
    "            xPow *= xFine\n",
    "        plt.plot(xFine, ycFine, label = 'degree ' + str(nc-1))\n",
    "    plt.xlabel('x')\n",
    "    plt.ylabel('y')\n",
    "    plt.legend()\n",
    "    plt.show()\n",
    "    \n",
    "# Usage example\n",
    "p = [2, 1]\n",
    "show(np.array(p[0]), np.array(p[1]), [np.array([1, 0]), np.array([-1, 1])])"
   ]
  },
  {
   "cell_type": "markdown",
   "metadata": {
    "tags": [
     "question"
    ]
   },
   "source": [
    "---\n",
    "#### Problem 2.1\n",
    "\n",
    "> Derive this last equation from the system\n",
    "> $$A\\mathbf{c} = \\mathbf{a}$$\n",
    "> spelled out for this special case."
   ]
  },
  {
   "cell_type": "markdown",
   "metadata": {
    "tags": [
     "question"
    ]
   },
   "source": [
    "---\n",
    "#### Problem 3.1\n",
    "\n",
    "> Write the matrix $A^T A$ and vector $A^T \\mathbf{a}$ in terms of $N, X, Y, S, P$ for the special case $k=1$."
   ]
  },
  {
   "cell_type": "markdown",
   "metadata": {
    "tags": [
     "question"
    ]
   },
   "source": [
    "---\n",
    "#### Problem 3.2\n",
    "\n",
    "> Find expressions for $c_0$ and $c_1$ in terms of $N, X, Y, S, P$ by solving the normal equations. Recall that\n",
    "> $$\\left[\\begin{array}{cc}a & b\\\\c & d \\end{array}\\right]^{-1} \\;=\\; \n",
    "\\frac{1}{ad-bc}\\ \\left[\\begin{array}{rr}d & -b\\\\-c & a \\end{array}\\right]$$"
   ]
  },
  {
   "cell_type": "markdown",
   "metadata": {
    "tags": [
     "question"
    ]
   },
   "source": [
    "---\n",
    "#### Problem 3.3\n",
    "\n",
    "> Use the function `show` given earlier to display the three points $(0, -1), (1, 1), (3, 0)$ and the line fit to them with the formulas you just found for $c_0$ and $c_1$."
   ]
  },
  {
   "cell_type": "markdown",
   "metadata": {
    "tags": [
     "question"
    ]
   },
   "source": [
    "---\n",
    "#### Problem 4.1\n",
    "\n",
    "> In problem 1.3 you found two different solutions to a data fitting problem. Let us call the corresponding coefficient vectors $\\mathbf{c}$ and $\\mathbf{d}$. Write the values of $\\mathbf{c}$ and $\\mathbf{d}$, and report their norms. Which is smaller?"
   ]
  },
  {
   "cell_type": "markdown",
   "metadata": {
    "tags": [
     "question"
    ]
   },
   "source": [
    "---\n",
    "#### Problem 4.2\n",
    "\n",
    "> Write a function with header\n",
    ">\n",
    ">    `def fit(x, y, k):`\n",
    ">\n",
    "> that fits a polynomial of degree `k` to the data in `x` and `y`."
   ]
  },
  {
   "cell_type": "markdown",
   "metadata": {
    "tags": [
     "question"
    ]
   },
   "source": [
    "---\n",
    "#### Problem 4.3\n",
    "\n",
    "> Show the plot and output obtained with the following code, where `fit` is your function. The file `T.txt` should be in the same directory as your notebook."
   ]
  },
  {
   "cell_type": "code",
   "execution_count": 2,
   "metadata": {
    "scrolled": true,
    "tags": [
     "question"
    ]
   },
   "outputs": [],
   "source": [
    "try:\n",
    "    p13 = {'x' : np.array(2), 'y' : np.array(1), 'k' : [1]}\n",
    "\n",
    "    np.set_printoptions(formatter={'float': '{: .3f}'.format})\n",
    "\n",
    "    def run(p):\n",
    "        x, y = p['x'], p['y']\n",
    "        cList = [fit(x, y, k) for k in p['k']]\n",
    "        show(x, y, cList)\n",
    "        for c in cList:\n",
    "            print(c.T)\n",
    "            \n",
    "    run(p13)\n",
    "except NameError:\n",
    "    pass\n"
   ]
  },
  {
   "cell_type": "markdown",
   "metadata": {
    "tags": [
     "question"
    ]
   },
   "source": [
    "---\n",
    "#### Problem 4.4\n",
    "\n",
    "> What is the approximate norm of the solution (to three decimal digits), and is this result consistent with your results in problem 1.3? Why or why not?"
   ]
  },
  {
   "cell_type": "markdown",
   "metadata": {
    "tags": [
     "question"
    ]
   },
   "source": [
    "---\n",
    "#### Problem 4.5\n",
    "\n",
    "> a. Show the plots and outputs obtained with the code below, and answer the following questions:\n",
    ">\n",
    "> b. Are the plot and value of $\\mathbf{c}$  from the data in `p33` consistent with your answer to problem 3.3?\n",
    ">\n",
    "> c. Give a brief qualitative description of the way(s) in which the curves in the plot from the data in `notes` differ from the curves in Figure 1 of the [class notes on data fitting](https://www2.cs.duke.edu/courses/fall18/compsci371d/notes/01_DataFitting.pdf). The plots in that Figure were computed from the same ten points as in `T.txt` but with a different numerical package."
   ]
  },
  {
   "cell_type": "code",
   "execution_count": 3,
   "metadata": {
    "tags": [
     "question"
    ]
   },
   "outputs": [],
   "source": [
    "try:\n",
    "    p33 = {'x' : np.array([0, 1, 3]), 'y' : np.array([-1, 1, 0]), 'k' : [1]}\n",
    "\n",
    "    x, y = np.loadtxt('T.txt', unpack=True)\n",
    "    notes = {'x' :x, 'y' : y, 'k' : [1, 3, 9]}\n",
    "\n",
    "    run(p33)\n",
    "    run(notes)\n",
    "except NameError:\n",
    "    pass"
   ]
  },
  {
   "cell_type": "markdown",
   "metadata": {
    "tags": [
     "question"
    ]
   },
   "source": [
    "---\n",
    "#### Problem 4.6 (Extra Credit, 5 Points)\n",
    "\n",
    ">If you noticed any discrepancies between your plot and the Figure in the class notes, first state why the discrepancies should not occur under ideal circumstances. Then suggest some reasons for them. For your information, the coefficients found for $k=9$ for the Figure in the class notes are as follows:\n",
    ">\n",
    ">$2.030, -295.642, 7107.144, -62956.114, 288218.499, -765400.622, 1224862.633, -1164835.634, 606187.939, -132887.534$"
   ]
  }
 ],
 "metadata": {
  "kernelspec": {
   "display_name": "Python 3",
   "language": "python",
   "name": "python3"
  },
  "language_info": {
   "codemirror_mode": {
    "name": "ipython",
    "version": 3
   },
   "file_extension": ".py",
   "mimetype": "text/x-python",
   "name": "python",
   "nbconvert_exporter": "python",
   "pygments_lexer": "ipython3",
   "version": "3.6.5"
  }
 },
 "nbformat": 4,
 "nbformat_minor": 2
}
