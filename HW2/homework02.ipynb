{
 "cells": [
  {
   "cell_type": "markdown",
   "metadata": {
    "tags": [
     "names"
    ]
   },
   "source": [
    "> **Student Names and IDs**:\n",
    ">\n",
    "> - Student 1, ID1 (Replace this item with your first and last name and student ID number.\n",
    "Add more items like this as needed, including the `> -` characters at the beginning,\n",
    "which generate the indent and the bullet.)"
   ]
  },
  {
   "cell_type": "markdown",
   "metadata": {
    "tags": [
     "header"
    ]
   },
   "source": [
    "# Homework 2"
   ]
  },
  {
   "cell_type": "markdown",
   "metadata": {
    "tags": [
     "header"
    ]
   },
   "source": [
    "## Part 1: Intuition in Many Dimensions"
   ]
  },
  {
   "cell_type": "markdown",
   "metadata": {
    "tags": [
     "question"
    ]
   },
   "source": [
    "### Problem 1.1\n",
    "\n",
    "What is the volume $c(d, a)$ of $C(d, a)$ and, in particular, what is $c(d, 1)$? No need to prove your answers."
   ]
  },
  {
   "cell_type": "markdown",
   "metadata": {
    "tags": [
     "question"
    ]
   },
   "source": [
    "### Problem 1.2"
   ]
  },
  {
   "cell_type": "markdown",
   "metadata": {
    "tags": [
     "question"
    ]
   },
   "source": [
    "Give a simple formula for the volume $e(d, \\epsilon)$ of $E(d, \\epsilon)$ in terms of $d$ and $\\epsilon$."
   ]
  },
  {
   "cell_type": "markdown",
   "metadata": {
    "tags": [
     "question"
    ]
   },
   "source": [
    "### Problem 1.3\n",
    "\n",
    "Use the function `matplotlib.pyplot.loglog` to plot $e(d, 10^{-3})$ for $d$ between $1$ and $10^{6}$, and with logarithmic scaling on both axes. Label the axes. "
   ]
  },
  {
   "cell_type": "markdown",
   "metadata": {
    "tags": [
     "question"
    ]
   },
   "source": [
    "### Problem 1.4\n",
    "\n",
    "Write a simple sentence that describes where most of the points in the unit cube are when the number $d$ of dimensions is large and $\\epsilon$ is small. What is the approximate numerical value of the fraction of points in the $\\epsilon$-skin of the unit cube when $d=2$ and $\\epsilon=10^{-3}$?"
   ]
  },
  {
   "cell_type": "markdown",
   "metadata": {
    "collapsed": true,
    "tags": [
     "question"
    ]
   },
   "source": [
    "### Problem 1.5\n",
    "\n",
    "Write a formula for the ratio $r(d)$ between the volume of the unit sphere and that of the 2-cube. Simplify your formula if possible and show your calculations."
   ]
  },
  {
   "cell_type": "markdown",
   "metadata": {
    "tags": [
     "question"
    ]
   },
   "source": [
    "### Problem 1.6\n",
    "\n",
    "Plot $r(d)$ (as a regular plot, no logarithms) for every integer $d$ between 1 and 10. Since only integer values of $d$ make sense, draw dots connected by a solid line (that is, specify options `marker='.', markersize=12` for `matplotlib.pyplot.plot`)."
   ]
  },
  {
   "cell_type": "markdown",
   "metadata": {
    "tags": [
     "question"
    ]
   },
   "source": [
    "### Problem 1.7\n",
    "\n",
    "Approximately what percentage of the volume of a cube is contained in the sphere inscribed the cube when $d=2$? And when $d=10$?"
   ]
  },
  {
   "cell_type": "markdown",
   "metadata": {
    "tags": [
     "header"
    ]
   },
   "source": [
    "## Part 2: Loss"
   ]
  },
  {
   "cell_type": "markdown",
   "metadata": {
    "tags": [
     "question"
    ]
   },
   "source": [
    "### Problem 2.1\n",
    "\n",
    "The output $y$ to a classifier $h$ is the activity performed by the single person visible in the image $\\mathbf{x}$. That person is playing tennis, and the possible activities are _serve_, _forehand_, _backhand_, _volley_, and _other_. The _other_ activity covers any shot that is not of the other types, and any other activity or lack thereof."
   ]
  },
  {
   "cell_type": "markdown",
   "metadata": {
    "tags": [
     "question"
    ]
   },
   "source": [
    "> a. If the signature of $h$ is $X\\rightarrow Y$, what are $X$ and $Y$, in terms of quantities given in the text for this part?\n",
    ">\n",
    "> b. Write the zero-one loss matrix for this classifier.\n",
    "\n",
    "Label your answers a and b."
   ]
  },
  {
   "cell_type": "markdown",
   "metadata": {
    "tags": [
     "template"
    ]
   },
   "source": [
    "To help you with math formatting, here is a small matrix with two rows and two columns:\n",
    "\n",
    "$$\n",
    "\\left[\\begin{array}{cc}\n",
    "11 & 12 \\\\\n",
    "21 & 22\n",
    "\\end{array}\\right]\n",
    "$$\n",
    "\n",
    "and here is the symbol for set of real numbers: $\\mathbb{R}$."
   ]
  },
  {
   "cell_type": "markdown",
   "metadata": {
    "tags": [
     "question"
    ]
   },
   "source": [
    "### Problem 2.2"
   ]
  },
  {
   "cell_type": "markdown",
   "metadata": {
    "tags": [
     "question"
    ]
   },
   "source": [
    "> a. Is $h$ a classifier or a regressor?\n",
    ">\n",
    "> b. If the signature of $h$ is $X\\rightarrow Y$, what are $X$ and $Y$, in terms of quantities given in the text for this part?\n",
    ">\n",
    "> c. Why can the loss function not be represented by a matrix for this problem?"
   ]
  },
  {
   "cell_type": "markdown",
   "metadata": {
    "tags": [
     "header"
    ]
   },
   "source": [
    "### Data"
   ]
  },
  {
   "cell_type": "code",
   "execution_count": 1,
   "metadata": {
    "tags": [
     "question"
    ]
   },
   "outputs": [],
   "source": [
    "import pickle\n",
    "\n",
    "with open('data.pickle', 'rb') as f:\n",
    "    data = pickle.load(f)"
   ]
  },
  {
   "cell_type": "markdown",
   "metadata": {
    "tags": [
     "question"
    ]
   },
   "source": [
    "### Problem 3.1\n",
    "\n",
    "Write a function `train` with two arguments. The first argument `T` is a training set represented like `data['T']` above. The second argument `k` is a nonnegative integer. The function `train` fits a univariate polynomial of degree `k` to the data in `T`.\n",
    "\n",
    "Show your code and the result of fitting a polynomial of degree 3 to `data['T']`. Specifically, show the coefficients of the polynomial in decreasing order of degree and with three decimals after the period, and then use the function `show` below (similar to that in homework 1, but using `numpy.polyval`) to plot both training set and polynomial."
   ]
  },
  {
   "cell_type": "code",
   "execution_count": 2,
   "metadata": {
    "tags": [
     "question"
    ]
   },
   "outputs": [],
   "source": [
    "%matplotlib inline\n",
    "\n",
    "import numpy as np\n",
    "import matplotlib.pyplot as plt\n",
    "\n",
    "def show(x, y, hList = []):\n",
    "    plt.plot(x, y, marker='.', markersize=12, ls='')\n",
    "    npt = 100\n",
    "    xrange = [min(x), max(x)]\n",
    "    xFine = np.linspace(xrange[0], xrange[1], npt)\n",
    "    for h in hList:\n",
    "        hxFine = np.polyval(h, xFine)\n",
    "        plt.plot(xFine, hxFine, label= 'degree ' + str(len(h)-1))\n",
    "\n",
    "    plt.xlabel('x')\n",
    "    plt.ylabel('y')\n",
    "    plt.legend()\n",
    "    plt.show()"
   ]
  },
  {
   "cell_type": "markdown",
   "metadata": {
    "tags": [
     "question"
    ]
   },
   "source": [
    "### Problem 3.2\n",
    "\n",
    "Write a function `loss(y, yp)` that takes the true value `y` and the predicted value `yp` for a regression problem and returns the quadratic loss $\\ell(y, y') = (y - y')^2$. The arguments are `numpy` arrays of equal size, and the output is an array of the same size with all of the losses.\n",
    "\n",
    "Then write a function `L(h, T, l)` that takes a `numpy` vector `h` of polynomial coefficients, a training set `T` represented as a dictionary with entries `x` and `y` as shown earlier, and a loss function `l` of the same signature as `loss`, and computes the empirical risk of `h` on `T` with loss `l`:\n",
    "\n",
    "$$\n",
    "L_T(h) = \\frac{1}{N} \\sum_{n=1}^N \\ell(y_n, h(x_n))\n",
    "$$\n",
    "\n",
    "where $N$ is the number of samples in $T$.\n",
    "\n",
    "Show your code and the numerical value of the empirical risk for the fit in problem 3.1. Use three decimal digits after the period."
   ]
  },
  {
   "cell_type": "markdown",
   "metadata": {
    "tags": [
     "question"
    ]
   },
   "source": [
    "### Problem 3.3\n",
    "\n",
    "Make a figure that superimposes two plots in the same diagram, each plot represented as a sequence of dots conencted by lines (as in the function `show` above).\n",
    "\n",
    "The first plot is the _training risk_, that is, the empirical risk on `data['T']` for the fit in problem 3.1 but for polynomial degrees $k = 0,\\ldots, 12$, using the quadratic loss. The second plot is the _validation risk_, that is, the analogous quantity estimated on `data['V']` (of course, for both plots the polynomials are trained on `data['T']`).\n",
    "\n",
    "Label the axes of the figure as \"k\" and \"risk\" and place a legend that specifies which plot is which.\n",
    "\n",
    "Show both code and plot."
   ]
  },
  {
   "cell_type": "markdown",
   "metadata": {
    "tags": [
     "question"
    ]
   },
   "source": [
    "### Problem 3.4\n",
    "\n",
    "For what value $k^{\\star}$ of $k$ does the fit generalize best to the validation data? Also use the function `show` to display the validation points and the fit to the training data for $k^{\\star}$."
   ]
  },
  {
   "cell_type": "markdown",
   "metadata": {
    "tags": [
     "question"
    ]
   },
   "source": [
    "### Problem 3.5\n",
    "\n",
    "Why is the plot for the training risk in problem 3.3 monotonic non-increasing? (If your plot doesn't look that way, you may want to review your solution to 3.3.) Explain briefly and clearly."
   ]
  },
  {
   "cell_type": "markdown",
   "metadata": {
    "tags": [
     "question"
    ]
   },
   "source": [
    "### Problem 3.6\n",
    "\n",
    "There are two technical terms that denote the fact that the validation risk is (i) higher for $k < k^{\\star}$ and (ii) higher for $k > k^{\\star}$, when compared to the validation risk at $k^{\\star}$. What are the two terms? Specify which term is for which case ((i) or (ii))."
   ]
  }
 ],
 "metadata": {
  "kernelspec": {
   "display_name": "Python 3",
   "language": "python",
   "name": "python3"
  },
  "language_info": {
   "codemirror_mode": {
    "name": "ipython",
    "version": 3
   },
   "file_extension": ".py",
   "mimetype": "text/x-python",
   "name": "python",
   "nbconvert_exporter": "python",
   "pygments_lexer": "ipython3",
   "version": "3.6.5"
  }
 },
 "nbformat": 4,
 "nbformat_minor": 2
}
