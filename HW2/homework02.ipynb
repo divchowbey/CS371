{
 "cells": [
  {
   "cell_type": "markdown",
   "metadata": {
    "tags": [
     "names"
    ]
   },
   "source": [
    "> **Student Names and IDs**:\n",
    ">\n",
    "> - Divya Chowbey, 0710368\n",
    "> - Feroze Mohideen, 0707410\n",
    "> - Caroline Wang, 0707659"
   ]
  },
  {
   "cell_type": "markdown",
   "metadata": {
    "tags": [
     "header"
    ]
   },
   "source": [
    "# Homework 2"
   ]
  },
  {
   "cell_type": "markdown",
   "metadata": {
    "tags": [
     "header"
    ]
   },
   "source": [
    "## Part 1: Intuition in Many Dimensions"
   ]
  },
  {
   "cell_type": "markdown",
   "metadata": {
    "tags": [
     "question"
    ]
   },
   "source": [
    "### Problem 1.1\n",
    "\n",
    "What is the volume $c(d, a)$ of $C(d, a)$ and, in particular, what is $c(d, 1)$? No need to prove your answers."
   ]
  },
  {
   "cell_type": "markdown",
   "metadata": {},
   "source": [
    "> The volume of $c(d, a)$ is $a^d$ and $c(d, 1)$ is 1."
   ]
  },
  {
   "cell_type": "markdown",
   "metadata": {
    "tags": [
     "question"
    ]
   },
   "source": [
    "### Problem 1.2"
   ]
  },
  {
   "cell_type": "markdown",
   "metadata": {
    "tags": [
     "question"
    ]
   },
   "source": [
    "Give a simple formula for the volume $e(d, \\epsilon)$ of $E(d, \\epsilon)$ in terms of $d$ and $\\epsilon$."
   ]
  },
  {
   "cell_type": "markdown",
   "metadata": {},
   "source": [
    "> $e(d, \\epsilon) = 1 - (1 - \\epsilon)^d$"
   ]
  },
  {
   "cell_type": "markdown",
   "metadata": {
    "tags": [
     "question"
    ]
   },
   "source": [
    "### Problem 1.3\n",
    "\n",
    "Use the function `matplotlib.pyplot.loglog` to plot $e(d, 10^{-3})$ for $d$ between $1$ and $10^{6}$, and with logarithmic scaling on both axes. Label the axes. "
   ]
  },
  {
   "cell_type": "code",
   "execution_count": 58,
   "metadata": {},
   "outputs": [
    {
     "data": {
      "text/plain": [
       "Text(0,0.5,'Volume e(d, $\\\\epsilon = 10^{-3}$)')"
      ]
     },
     "execution_count": 58,
     "metadata": {},
     "output_type": "execute_result"
    },
    {
     "data": {
      "image/png": "[encoded data removed]",
      "text/plain": [
       "<Figure size 432x288 with 1 Axes>"
      ]
     },
     "metadata": {},
     "output_type": "display_data"
    }
   ],
   "source": [
    "import matplotlib.pyplot as plt\n",
    "import numpy as np\n",
    "%matplotlib inline\n",
    "\n",
    "x = np.linspace(1, 10**6, 1000)\n",
    "\n",
    "def vol(x):\n",
    "    return 1 - (1-10**-3)**x\n",
    "\n",
    "y = vol(x)\n",
    "plt.loglog(x, y, 'k-')\n",
    "plt.xlabel('Dimension (d)')\n",
    "plt.ylabel('Volume e(d, $\\epsilon = 10^{-3}$)')"
   ]
  },
  {
   "cell_type": "markdown",
   "metadata": {
    "tags": [
     "question"
    ]
   },
   "source": [
    "### Problem 1.4\n",
    "\n",
    "Write a simple sentence that describes where most of the points in the unit cube are when the number $d$ of dimensions is large and $\\epsilon$ is small. What is the approximate numerical value of the fraction of points in the $\\epsilon$-skin of the unit cube when $d=2$ and $\\epsilon=10^{-3}$?"
   ]
  },
  {
   "cell_type": "markdown",
   "metadata": {},
   "source": [
    "> Most of the points are in the $\\epsilon$-skin when the dimension is large and $\\epsilon$ is small. The approximate fraction of points in the skin when $d=2$ and $\\epsilon=10^{-3}$ is:\n",
    "$$\\frac{e(2, 10^{-3})}{1} = 0.001999$$."
   ]
  },
  {
   "cell_type": "markdown",
   "metadata": {
    "collapsed": true,
    "tags": [
     "question"
    ]
   },
   "source": [
    "### Problem 1.5\n",
    "\n",
    "Write a formula for the ratio $r(d)$ between the volume of the unit sphere and that of the 2-cube. Simplify your formula if possible and show your calculations."
   ]
  },
  {
   "cell_type": "markdown",
   "metadata": {},
   "source": [
    "> $$r(d) = S(d) / C(d, 2) = \\frac{2\\pi^{d/2}}{d\\Gamma(d/2)} / 2^d = $$\n",
    "\n",
    "> $$ \\frac{\\pi^{d/2}}{d2^{d-1}\\Gamma(d/2)} $$\n",
    "\n",
    " "
   ]
  },
  {
   "cell_type": "markdown",
   "metadata": {
    "tags": [
     "question"
    ]
   },
   "source": [
    "### Problem 1.6\n",
    "\n",
    "Plot $r(d)$ (as a regular plot, no logarithms) for every integer $d$ between 1 and 10. Since only integer values of $d$ make sense, draw dots connected by a solid line (that is, specify options `marker='.', markersize=12` for `matplotlib.pyplot.plot`)."
   ]
  },
  {
   "cell_type": "code",
   "execution_count": 59,
   "metadata": {},
   "outputs": [
    {
     "data": {
      "text/plain": [
       "Text(0,0.5,'r(d)')"
      ]
     },
     "execution_count": 59,
     "metadata": {},
     "output_type": "execute_result"
    },
    {
     "data": {
      "image/png": "[encoded data removed]",
      "text/plain": [
       "<Figure size 432x288 with 1 Axes>"
      ]
     },
     "metadata": {},
     "output_type": "display_data"
    }
   ],
   "source": [
    "import matplotlib.pyplot as plt\n",
    "import numpy as np\n",
    "import scipy.special as sp\n",
    "import math\n",
    "\n",
    "%matplotlib inline\n",
    "x = np.arange(1,10)\n",
    "\n",
    "def r(d):\n",
    "    return (0.5**(d-1)*(math.pi**(d/2)))/(d*sp.gamma(d/2))\n",
    "\n",
    "y = r(x)\n",
    "plt.plot(x, y, marker='.', markersize=12)\n",
    "plt.xlabel('Dimension (d)')\n",
    "plt.ylabel('r(d)') "
   ]
  },
  {
   "cell_type": "markdown",
   "metadata": {
    "tags": [
     "question"
    ]
   },
   "source": [
    "### Problem 1.7\n",
    "\n",
    "Approximately what percentage of the volume of a cube is contained in the sphere inscribed the cube when $d=2$? And when $d=10$?"
   ]
  },
  {
   "cell_type": "markdown",
   "metadata": {},
   "source": [
    "> $$r(2) = \\frac{2^{1-2}\\pi^{2/2}}{2\\Gamma(2/2)} \\approx 79\\%$$\n",
    "\n",
    "> $$r(10) = \\frac{2^{1-10}\\pi^{10/2}}{10\\Gamma(10/2)} \\approx 0.25\\%$$"
   ]
  },
  {
   "cell_type": "markdown",
   "metadata": {
    "tags": [
     "header"
    ]
   },
   "source": [
    "## Part 2: Loss"
   ]
  },
  {
   "cell_type": "markdown",
   "metadata": {
    "tags": [
     "question"
    ]
   },
   "source": [
    "### Problem 2.1\n",
    "\n",
    "The output $y$ to a classifier $h$ is the activity performed by the single person visible in the image $\\mathbf{x}$. That person is playing tennis, and the possible activities are _serve_, _forehand_, _backhand_, _volley_, and _other_. The _other_ activity covers any shot that is not of the other types, and any other activity or lack thereof."
   ]
  },
  {
   "cell_type": "markdown",
   "metadata": {
    "tags": [
     "question"
    ]
   },
   "source": [
    "> a. If the signature of $h$ is $X\\rightarrow Y$, what are $X$ and $Y$, in terms of quantities given in the text for this part?\n",
    ">\n",
    "> b. Write the zero-one loss matrix for this classifier.\n",
    "\n",
    "Label your answers a and b."
   ]
  },
  {
   "cell_type": "markdown",
   "metadata": {
    "tags": [
     "template"
    ]
   },
   "source": [
    "To help you with math formatting, here is a small matrix with two rows and two columns:\n",
    "\n",
    "$$\n",
    "\\left[\\begin{array}{cc}\n",
    "11 & 12 \\\\\n",
    "21 & 22\n",
    "\\end{array}\\right]\n",
    "$$\n",
    "\n",
    "and here is the symbol for set of real numbers: $\\mathbb{R}$."
   ]
  },
  {
   "cell_type": "markdown",
   "metadata": {},
   "source": [
    "> a.)\n",
    "> X: the  space of real-valued 480x640 matrices ($\\mathbb{R^{307200}}$). Y is the finite set of five elements: {serve, forehand, backhand, volley and other}. Y can be represented by one hot encoding vectors:\n",
    "$$\n",
    "\\left[\\begin{array}{c}1 0 0 0 0\\end{array}\\right],\n",
    "\\left[\\begin{array}{c}0 1 0 0 0\\end{array}\\right],\n",
    "\\left[\\begin{array}{c}0 0 1 0 0\\end{array}\\right],\n",
    "\\left[\\begin{array}{c}0 0 0 1 0\\end{array}\\right],\n",
    "\\left[\\begin{array}{c}0 0 0 0 1\\end{array}\\right],\n",
    "$$ \n",
    "> where the indices of each vector correspond to the output categories: serve, forehand, backhand, volley and other.  \n",
    "\n",
    "> b.) Zero One Loss Matrix:\n",
    "$\n",
    "\\left[\\begin{array}{ccccc}\n",
    "0 & 1 & 1 & 1 & 1 \\\\\n",
    "1 & 0 & 1 & 1 & 1 \\\\\n",
    "1 & 1 & 0 & 1 & 1 \\\\\n",
    "1 & 1 & 1 & 0 & 1 \\\\\n",
    "1 & 1 & 1 & 1 & 0 \\\\\n",
    "\\end{array}\\right]\n",
    "$"
   ]
  },
  {
   "cell_type": "markdown",
   "metadata": {
    "tags": [
     "question"
    ]
   },
   "source": [
    "### Problem 2.2"
   ]
  },
  {
   "cell_type": "markdown",
   "metadata": {
    "tags": [
     "question"
    ]
   },
   "source": [
    "> a. Is $h$ a classifier or a regressor?\n",
    ">\n",
    "> b. If the signature of $h$ is $X\\rightarrow Y$, what are $X$ and $Y$, in terms of quantities given in the text for this part?\n",
    ">\n",
    "> c. Why can the loss function not be represented by a matrix for this problem?"
   ]
  },
  {
   "cell_type": "markdown",
   "metadata": {},
   "source": [
    "> a. $h$ is a regressor.\n",
    "\n",
    "> b. X: the  space of real-valued 480x640 matrices. Y is a subset of $\\mathbb{R^{25}}$.\n",
    "\n",
    "> c. Since this is a regression problem, not a classification problem, there are an infinite number of possible output vectors $\\bf{y}$ (rather than the 5 distinct possible output vectors we had in 2.1). Therefore it is impossible to represent the loss function with a finite dimensional square matrix where each row corresponds to a true value and each column represents a predicted value.\n",
    "\n",
    "  "
   ]
  },
  {
   "cell_type": "markdown",
   "metadata": {
    "tags": [
     "header"
    ]
   },
   "source": [
    "### Data"
   ]
  },
  {
   "cell_type": "code",
   "execution_count": 60,
   "metadata": {
    "tags": [
     "question"
    ]
   },
   "outputs": [],
   "source": [
    "import pickle\n",
    "\n",
    "with open('data.pickle', 'rb') as f:\n",
    "    data = pickle.load(f)"
   ]
  },
  {
   "cell_type": "markdown",
   "metadata": {
    "tags": [
     "question"
    ]
   },
   "source": [
    "### Problem 3.1\n",
    "\n",
    "Write a function `train` with two arguments. The first argument `T` is a training set represented like `data['T']` above. The second argument `k` is a nonnegative integer. The function `train` fits a univariate polynomial of degree `k` to the data in `T`.\n",
    "\n",
    "Show your code and the result of fitting a polynomial of degree 3 to `data['T']`. Specifically, show the coefficients of the polynomial in decreasing order of degree and with three decimals after the period, and then use the function `show` below (similar to that in homework 1, but using `numpy.polyval`) to plot both training set and polynomial."
   ]
  },
  {
   "cell_type": "code",
   "execution_count": 61,
   "metadata": {
    "tags": [
     "question"
    ]
   },
   "outputs": [],
   "source": [
    "%matplotlib inline\n",
    "\n",
    "import numpy as np\n",
    "import matplotlib.pyplot as plt\n",
    "\n",
    "def show(x, y, name, hList = []):\n",
    "    plt.plot(x, y, marker='.', markersize=12, ls='', label=name)\n",
    "    npt = 100\n",
    "    xrange = [min(x), max(x)]\n",
    "    xFine = np.linspace(xrange[0], xrange[1], npt)\n",
    "    for h in hList:\n",
    "        hxFine = np.polyval(h, xFine)\n",
    "        plt.plot(xFine, hxFine, label= 'degree ' + str(len(h)-1))\n",
    "\n",
    "    plt.xlabel('x')\n",
    "    plt.ylabel('y')\n",
    "    plt.legend()\n",
    "    plt.show()"
   ]
  },
  {
   "cell_type": "code",
   "execution_count": 62,
   "metadata": {},
   "outputs": [
    {
     "name": "stdout",
     "output_type": "stream",
     "text": [
      "coefficients of polynomial (decreasing order): 0.036   -0.336   0.661   0.139   "
     ]
    },
    {
     "data": {
      "image/png": "[encoded data removed]",
      "text/plain": [
       "<Figure size 432x288 with 1 Axes>"
      ]
     },
     "metadata": {},
     "output_type": "display_data"
    }
   ],
   "source": [
    "def train(T, k):\n",
    "    # fits univariate polynomial of degree k to data in T\n",
    "    p = np.polyfit(T['x'], T['y'], k)\n",
    "    return p\n",
    "\n",
    "with open('data.pickle', 'rb') as f:\n",
    "    data = pickle.load(f)\n",
    "    # test code: fit polynomial of degree 3 to data['T']\n",
    "    T = data['T']\n",
    "    k = 3\n",
    "    p = train(T, k)\n",
    "    print(\"coefficients of polynomial (decreasing order): \", end='')\n",
    "    for i in range(k+1):\n",
    "        print(\"%0.3f\" %p.item(i), end= '   ')\n",
    "    show(T['x'], T['y'], 'Training Set',[p])"
   ]
  },
  {
   "cell_type": "markdown",
   "metadata": {
    "tags": [
     "question"
    ]
   },
   "source": [
    "### Problem 3.2\n",
    "\n",
    "Write a function `loss(y, yp)` that takes the true value `y` and the predicted value `yp` for a regression problem and returns the quadratic loss $\\ell(y, y') = (y - y')^2$. The arguments are `numpy` arrays of equal size, and the output is an array of the same size with all of the losses.\n",
    "\n",
    "Then write a function `L(h, T, l)` that takes a `numpy` vector `h` of polynomial coefficients, a training set `T` represented as a dictionary with entries `x` and `y` as shown earlier, and a loss function `l` of the same signature as `loss`, and computes the empirical risk of `h` on `T` with loss `l`:\n",
    "\n",
    "$$\n",
    "L_T(h) = \\frac{1}{N} \\sum_{n=1}^N \\ell(y_n, h(x_n))\n",
    "$$\n",
    "\n",
    "where $N$ is the number of samples in $T$.\n",
    "\n",
    "Show your code and the numerical value of the empirical risk for the fit in problem 3.1. Use three decimal digits after the period."
   ]
  },
  {
   "cell_type": "code",
   "execution_count": 63,
   "metadata": {},
   "outputs": [
    {
     "name": "stdout",
     "output_type": "stream",
     "text": [
      "numerical value of the empirical risk for the fit in problem 3.1: 0.207\n"
     ]
    }
   ],
   "source": [
    "def loss(y, yp):\n",
    "    losses = (y-yp)**2\n",
    "    return losses\n",
    "\n",
    "def L(h, T, l):\n",
    "    loss_emp = np.mean(l(T['y'], np.polyval(h, T['x']) ) )\n",
    "    return loss_emp\n",
    "\n",
    "with open('data.pickle', 'rb') as f:\n",
    "    data = pickle.load(f)\n",
    "    T = data['T']\n",
    "    k = 3\n",
    "    p = train(T, k)\n",
    "    loss_emp = L(p, T, loss)\n",
    "    print(\"numerical value of the empirical risk for the fit in problem 3.1: %0.3f\" %loss_emp)"
   ]
  },
  {
   "cell_type": "markdown",
   "metadata": {
    "tags": [
     "question"
    ]
   },
   "source": [
    "### Problem 3.3\n",
    "\n",
    "Make a figure that superimposes two plots in the same diagram, each plot represented as a sequence of dots conencted by lines (as in the function `show` above).\n",
    "\n",
    "The first plot is the _training risk_, that is, the empirical risk on `data['T']` for the fit in problem 3.1 but for polynomial degrees $k = 0,\\ldots, 12$, using the quadratic loss. The second plot is the _validation risk_, that is, the analogous quantity estimated on `data['V']` (of course, for both plots the polynomials are trained on `data['T']`).\n",
    "\n",
    "Label the axes of the figure as \"k\" and \"risk\" and place a legend that specifies which plot is which.\n",
    "\n",
    "Show both code and plot."
   ]
  },
  {
   "cell_type": "code",
   "execution_count": 64,
   "metadata": {},
   "outputs": [
    {
     "data": {
      "image/png": "[encoded data removed]",
      "text/plain": [
       "<Figure size 432x288 with 1 Axes>"
      ]
     },
     "metadata": {},
     "output_type": "display_data"
    }
   ],
   "source": [
    "with open('data.pickle', 'rb') as f:\n",
    "    data = pickle.load(f)\n",
    "    T = data['T']\n",
    "    V = data['V']\n",
    "    training_risk = np.zeros(13)\n",
    "    validation_risk = np.zeros(13)\n",
    "    for k in range(13): # 0 to 12\n",
    "        p = train(T, k)\n",
    "        loss_emp_training = L(p, T, loss)\n",
    "        training_risk[k] = loss_emp\n",
    "        \n",
    "        loss_emp_validation = L(p, V, loss)\n",
    "        validation_risk[k] = loss_emp_validation\n",
    "        \n",
    "    plt.plot(range(13), training_risk, marker='.', markersize=12, ls='-', label= 'Training Risk')\n",
    "    plt.plot(range(13), validation_risk, marker='.', markersize=12, ls='-', label= 'Validation Risk')\n",
    "    plt.xlabel('k')\n",
    "    plt.ylabel('risk')\n",
    "    plt.legend()\n",
    "        \n",
    "        "
   ]
  },
  {
   "cell_type": "markdown",
   "metadata": {
    "tags": [
     "question"
    ]
   },
   "source": [
    "### Problem 3.4\n",
    "\n",
    "For what value $k^{\\star}$ of $k$ does the fit generalize best to the validation data? Also use the function `show` to display the validation points and the fit to the training data for $k^{\\star}$."
   ]
  },
  {
   "cell_type": "markdown",
   "metadata": {},
   "source": [
    " Among all the values of $k$, the fit generalizes best to the validation data for $k^{\\star} = 5$."
   ]
  },
  {
   "cell_type": "code",
   "execution_count": 65,
   "metadata": {},
   "outputs": [
    {
     "name": "stdout",
     "output_type": "stream",
     "text": [
      "coefficients of polynomial (decreasing order): -0.007   0.119   -0.702   1.534   -1.083   0.514   "
     ]
    },
    {
     "data": {
      "image/png": "[encoded data removed]",
      "text/plain": [
       "<Figure size 432x288 with 1 Axes>"
      ]
     },
     "metadata": {},
     "output_type": "display_data"
    }
   ],
   "source": [
    "with open('data.pickle', 'rb') as f:\n",
    "    data = pickle.load(f)\n",
    "    T = data['T']\n",
    "    V = data['V']\n",
    "    k = 5\n",
    "    p = train(T, k)\n",
    "    print(\"coefficients of polynomial (decreasing order): \", end='')\n",
    "    for i in range(k+1):\n",
    "        print(\"%0.3f\" %p.item(i), end= '   ')\n",
    "    show(V['x'], V['y'], 'Validation Set', [p])"
   ]
  },
  {
   "cell_type": "markdown",
   "metadata": {
    "tags": [
     "question"
    ]
   },
   "source": [
    "### Problem 3.5\n",
    "\n",
    "Why is the plot for the training risk in problem 3.3 monotonic non-increasing? (If your plot doesn't look that way, you may want to review your solution to 3.3.) Explain briefly and clearly."
   ]
  },
  {
   "cell_type": "markdown",
   "metadata": {},
   "source": [
    "> Training risk in problem 3.3 is monotonic non-increasing due to the nature of polynomial fitting. As the degree of the polynomial increases, the fit of the training data improves. This is because the higher degree polynomials are more flexible and with greater oscillations reduce loss. The flexibility arises from the way that polynomials of degree k are fitted: lower degree polynomials (less than k) are a subset of the space that contains polynomials up to degree k. Therefore, for larger k values, which will include lower order polynomials, training risk (measure of fitting) will not increase as the degree increases."
   ]
  },
  {
   "cell_type": "markdown",
   "metadata": {
    "tags": [
     "question"
    ]
   },
   "source": [
    "### Problem 3.6\n",
    "\n",
    "There are two technical terms that denote the fact that the validation risk is (i) higher for $k < k^{\\star}$ and (ii) higher for $k > k^{\\star}$, when compared to the validation risk at $k^{\\star}$. What are the two terms? Specify which term is for which case ((i) or (ii))."
   ]
  },
  {
   "cell_type": "markdown",
   "metadata": {},
   "source": [
    "> (i) underfit\n",
    "\n",
    "> (ii) overfit"
   ]
  }
 ],
 "metadata": {
  "kernelspec": {
   "display_name": "Python 3",
   "language": "python",
   "name": "python3"
  },
  "language_info": {
   "codemirror_mode": {
    "name": "ipython",
    "version": 3
   },
   "file_extension": ".py",
   "mimetype": "text/x-python",
   "name": "python",
   "nbconvert_exporter": "python",
   "pygments_lexer": "ipython3",
   "version": "3.6.5"
  }
 },
 "nbformat": 4,
 "nbformat_minor": 2
}
