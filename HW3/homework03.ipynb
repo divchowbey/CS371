{
 "cells": [
  {
   "cell_type": "markdown",
   "metadata": {
    "tags": [
     "T"
    ]
   },
   "source": [
    "> **Student Names and IDs**:\n",
    ">\n",
    "> - Student 1, ID1 (Replace this item with your first and last name and student ID number.\n",
    "Add more items like this as needed, including the `> -` characters at the beginning,\n",
    "which generate the indent and the bullet.)"
   ]
  },
  {
   "cell_type": "markdown",
   "metadata": {},
   "source": [
    "# Homework 3"
   ]
  },
  {
   "cell_type": "markdown",
   "metadata": {},
   "source": [
    "## Part 1: Linearity"
   ]
  },
  {
   "cell_type": "markdown",
   "metadata": {},
   "source": [
    "### Problem 1.1"
   ]
  },
  {
   "cell_type": "markdown",
   "metadata": {},
   "source": [
    "Prove that the function $\\,f\\ :\\ \\mathbb{R}\\rightarrow\\mathbb{R}$ defined by\n",
    "\n",
    "$$\n",
    "f(x) = a x + b\n",
    "$$\n",
    "\n",
    "where $a, b$ are real numbers is linear if and only if $b = 0$."
   ]
  },
  {
   "cell_type": "markdown",
   "metadata": {
    "tags": [
     "ST"
    ]
   },
   "source": [
    "### Answer"
   ]
  },
  {
   "cell_type": "markdown",
   "metadata": {},
   "source": [
    "## Part 2: Counting Polynomial Coefficients"
   ]
  },
  {
   "cell_type": "markdown",
   "metadata": {},
   "source": [
    "### Problem 2.1\n",
    "\n",
    "Write an expression for the general polynomial of degree up to $k=2$ in $d=3$ variables."
   ]
  },
  {
   "cell_type": "markdown",
   "metadata": {
    "tags": [
     "ST"
    ]
   },
   "source": [
    "### Answer"
   ]
  },
  {
   "cell_type": "markdown",
   "metadata": {},
   "source": [
    "### Problem 2.2\n",
    "\n",
    "How many coefficients does $P_{3,4}(\\mathbf{x})$ have?"
   ]
  },
  {
   "cell_type": "markdown",
   "metadata": {
    "tags": [
     "ST"
    ]
   },
   "source": [
    "### Answer"
   ]
  },
  {
   "cell_type": "markdown",
   "metadata": {},
   "source": [
    "### Problem 2.3"
   ]
  },
  {
   "cell_type": "markdown",
   "metadata": {},
   "source": [
    "Make a table with the monomial $\\mu'$ (not $\\mu$), string $s$, and vector $\\mathbf{p}$ for each of the monomials in $P_{3, 2}$. Use one table row for each monomial, and list the monomials in the order in which they appear in your expression for $P_{3, 2}$.\n",
    "\n",
    "As an exception to the rules above, write every power of $1$ in $\\mu'$ explicitly, even when it is $0$ or $1$."
   ]
  },
  {
   "cell_type": "markdown",
   "metadata": {
    "tags": [
     "ST"
    ]
   },
   "source": [
    "### Answer"
   ]
  },
  {
   "cell_type": "markdown",
   "metadata": {},
   "source": [
    "### Problem 2.4"
   ]
  },
  {
   "cell_type": "markdown",
   "metadata": {},
   "source": [
    "Write two Python 3 functions with headers\n",
    "`def p2s(p):` and `def s2p(s):`\n",
    "that convert between $\\mathbf{p}$ and $s$. Show your function definitions and the outputs produced by the code below."
   ]
  },
  {
   "cell_type": "markdown",
   "metadata": {
    "tags": [
     "ST"
    ]
   },
   "source": [
    "### Answer"
   ]
  },
  {
   "cell_type": "code",
   "execution_count": 1,
   "metadata": {},
   "outputs": [],
   "source": [
    "try:\n",
    "    print(p2s([1]))\n",
    "    print(p2s([0]))\n",
    "    print(p2s([0, 0]))\n",
    "    print(p2s([2]))\n",
    "    print(p2s([0, 0, 0]))\n",
    "    print(p2s([4, 2, 1, 0, 3, 0]))\n",
    "    \n",
    "    print(s2p('0'))\n",
    "    print(s2p(''))\n",
    "    print(s2p('1'))\n",
    "    print(s2p('00'))\n",
    "    print(s2p('11'))\n",
    "    print(s2p('000010010110001'))\n",
    "    \n",
    "except NameError:\n",
    "    pass"
   ]
  },
  {
   "cell_type": "markdown",
   "metadata": {},
   "source": [
    "## Part 3: Nearest-Neighbor Prediction"
   ]
  },
  {
   "cell_type": "markdown",
   "metadata": {},
   "source": [
    "### Problem 3.1"
   ]
  },
  {
   "cell_type": "markdown",
   "metadata": {},
   "source": [
    "Write a Python 3 function with header\n",
    "\n",
    "`def knn(x, k, T, distance, summary):`\n",
    "\n",
    "that takes a `numpy` array `x` of data points, a positive integer `k`, a training set `T`, a distance function, and a summary function. The function `knn` returns the value $y = h(\\mathbf{x})$ of the $k$-NN prediction for data point $\\mathbf{x}$ using `distance` to determine the nearest neighbors of $\\mathbf{x}$ and `summary` to summarize the corresponding $k$ values.\n",
    "\n",
    "Show your code."
   ]
  },
  {
   "cell_type": "markdown",
   "metadata": {
    "tags": [
     "ST"
    ]
   },
   "source": [
    "### Answer"
   ]
  },
  {
   "cell_type": "markdown",
   "metadata": {},
   "source": [
    "### Problem 3.2"
   ]
  },
  {
   "cell_type": "markdown",
   "metadata": {},
   "source": [
    "Write functions `Euclidean`, `mean`, `median`, and `majority`. The first is a distance function, the other three are summary functions. They implement Euclidean distance in data space and mean, median, and majority in value space. To write `majority` you may assume that all the values in the input vector are nonnegative integers. Break ties any way you like.\n",
    "\n",
    "Show your code."
   ]
  },
  {
   "cell_type": "markdown",
   "metadata": {
    "tags": [
     "ST"
    ]
   },
   "source": [
    "### Answer"
   ]
  },
  {
   "cell_type": "markdown",
   "metadata": {},
   "source": [
    "### Problem 3.3"
   ]
  },
  {
   "cell_type": "code",
   "execution_count": 2,
   "metadata": {},
   "outputs": [],
   "source": [
    "import pickle\n",
    "with open('data.pickle', 'rb') as f:\n",
    "    T = pickle.load(f)"
   ]
  },
  {
   "cell_type": "markdown",
   "metadata": {},
   "source": [
    "Write code to reproduce Figure 4(b) in the [notes](https://www2.cs.duke.edu/courses/fall18/compsci371d/notes/03_NearestNeighbors.pdf).\n",
    "\n",
    "Show your code and the figure it produces."
   ]
  },
  {
   "cell_type": "markdown",
   "metadata": {
    "tags": [
     "ST"
    ]
   },
   "source": [
    "### Answer"
   ]
  },
  {
   "cell_type": "markdown",
   "metadata": {},
   "source": [
    "### Problem 3.4\n",
    "\n",
    "Redraw the plot you obtained in the previous question for $k=10$, and superimpose on it the plot obtained with the same value of $k$ but using `median` as the summary function. Add a legend that says `mean` or `median` for the corresponding plot.\n",
    "\n",
    "Show code and output figure."
   ]
  },
  {
   "cell_type": "markdown",
   "metadata": {
    "tags": [
     "ST"
    ]
   },
   "source": [
    "### Answer"
   ]
  },
  {
   "cell_type": "markdown",
   "metadata": {},
   "source": [
    "### Problem 3.5"
   ]
  },
  {
   "cell_type": "markdown",
   "metadata": {},
   "source": [
    "You will notice that the plots computed with mean and median differ for some values of $x$, but not much for other values of $x$. What would very different values of mean and median tell you about the values $y_1,\\ldots, y_k$ in a neighborhood of some data point $x$? Explain, and provide an example from your plots."
   ]
  },
  {
   "cell_type": "markdown",
   "metadata": {
    "tags": [
     "ST"
    ]
   },
   "source": [
    "### Answer"
   ]
  },
  {
   "cell_type": "markdown",
   "metadata": {},
   "source": [
    "### Problem 3.6\n",
    "\n",
    "As you learned the hard way, it takes quite a bit of time to run a $k$-NN classifier when the training set is large (and when you run it on many data points $x$, of course). Explain very briefly why this does not necessarily doom $k$-NN prediction to practical irrelevance."
   ]
  },
  {
   "cell_type": "markdown",
   "metadata": {
    "tags": [
     "ST"
    ]
   },
   "source": [
    "### Answer"
   ]
  }
 ],
 "metadata": {
  "kernelspec": {
   "display_name": "Python 3",
   "language": "python",
   "name": "python3"
  },
  "language_info": {
   "codemirror_mode": {
    "name": "ipython",
    "version": 3
   },
   "file_extension": ".py",
   "mimetype": "text/x-python",
   "name": "python",
   "nbconvert_exporter": "python",
   "pygments_lexer": "ipython3",
   "version": "3.6.5"
  }
 },
 "nbformat": 4,
 "nbformat_minor": 2
}
